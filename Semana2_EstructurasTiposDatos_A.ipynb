{
  "cells": [
    {
      "cell_type": "markdown",
      "metadata": {
        "id": "view-in-github",
        "colab_type": "text"
      },
      "source": [
        "<a href=\"https://colab.research.google.com/github/Migueltapia98/DEMOMATLAB2/blob/main/Semana2_EstructurasTiposDatos_A.ipynb\" target=\"_parent\"><img src=\"https://colab.research.google.com/assets/colab-badge.svg\" alt=\"Open In Colab\"/></a>"
      ]
    },
    {
      "cell_type": "markdown",
      "metadata": {
        "id": "orhYrgMdDixY"
      },
      "source": [
        "# Estructuras y tipos de datos\n"
      ]
    },
    {
      "cell_type": "markdown",
      "metadata": {
        "id": "FBtqD9aGDixe"
      },
      "source": [
        "### Tipos de datos _int_\n",
        "Números enteros\n",
        "\n",
        "![image.png](attachment:6e34ab45-de43-4f2d-83f9-54b44bcf87bc.png)"
      ]
    },
    {
      "cell_type": "code",
      "execution_count": 2,
      "metadata": {
        "colab": {
          "base_uri": "https://localhost:8080/"
        },
        "id": "1KRa0HVJDixk",
        "outputId": "dca18296-0643-42af-9a21-c61ffe7b586b"
      },
      "outputs": [
        {
          "output_type": "execute_result",
          "data": {
            "text/plain": [
              "int"
            ]
          },
          "metadata": {},
          "execution_count": 2
        }
      ],
      "source": [
        "type(2)"
      ]
    },
    {
      "cell_type": "code",
      "execution_count": 3,
      "metadata": {
        "colab": {
          "base_uri": "https://localhost:8080/"
        },
        "id": "Jrqgj9vrDixl",
        "outputId": "5444895b-b783-46b7-954f-a21d4e4b594a"
      },
      "outputs": [
        {
          "output_type": "execute_result",
          "data": {
            "text/plain": [
              "int"
            ]
          },
          "metadata": {},
          "execution_count": 3
        }
      ],
      "source": [
        "type(-79)"
      ]
    },
    {
      "cell_type": "code",
      "execution_count": 4,
      "metadata": {
        "colab": {
          "base_uri": "https://localhost:8080/"
        },
        "id": "u9yQZGf7Dixl",
        "outputId": "485ba044-8318-46ab-fb74-620246547584"
      },
      "outputs": [
        {
          "output_type": "execute_result",
          "data": {
            "text/plain": [
              "int"
            ]
          },
          "metadata": {},
          "execution_count": 4
        }
      ],
      "source": [
        "type(0)"
      ]
    },
    {
      "cell_type": "code",
      "execution_count": null,
      "metadata": {
        "id": "OpwXyn5qDixl"
      },
      "outputs": [],
      "source": [
        ""
      ]
    },
    {
      "cell_type": "markdown",
      "metadata": {
        "id": "TBXoN-S5Dixn"
      },
      "source": [
        "### Tipos de datos *float*\n",
        "Números con punto flotante\n",
        "\n",
        "![image.png](attachment:e106d5bb-fc9c-44e9-be34-44906d528cc2.png)"
      ]
    },
    {
      "cell_type": "code",
      "execution_count": 1,
      "metadata": {
        "colab": {
          "base_uri": "https://localhost:8080/"
        },
        "id": "dysljPThDixn",
        "outputId": "82cedec7-be27-46ab-9c28-7225d5cb7e7d"
      },
      "outputs": [
        {
          "output_type": "execute_result",
          "data": {
            "text/plain": [
              "float"
            ]
          },
          "metadata": {},
          "execution_count": 1
        }
      ],
      "source": [
        "type(0.5)"
      ]
    },
    {
      "cell_type": "code",
      "execution_count": 5,
      "metadata": {
        "colab": {
          "base_uri": "https://localhost:8080/"
        },
        "id": "Jq4BoLa8Dixo",
        "outputId": "a286c266-ce3e-4a0b-b564-2afeab1315d6"
      },
      "outputs": [
        {
          "output_type": "execute_result",
          "data": {
            "text/plain": [
              "float"
            ]
          },
          "metadata": {},
          "execution_count": 5
        }
      ],
      "source": [
        "type(12.)"
      ]
    },
    {
      "cell_type": "code",
      "source": [
        "type(-1.23)"
      ],
      "metadata": {
        "colab": {
          "base_uri": "https://localhost:8080/"
        },
        "id": "t-2Q7kP3D0Us",
        "outputId": "7dd6b37c-a0e5-46a7-a18f-f4736e683666"
      },
      "execution_count": 6,
      "outputs": [
        {
          "output_type": "execute_result",
          "data": {
            "text/plain": [
              "float"
            ]
          },
          "metadata": {},
          "execution_count": 6
        }
      ]
    },
    {
      "cell_type": "code",
      "source": [
        ""
      ],
      "metadata": {
        "id": "-ar__NSiD6Zg"
      },
      "execution_count": null,
      "outputs": []
    },
    {
      "cell_type": "code",
      "execution_count": null,
      "metadata": {
        "id": "FKia1cVFDixq"
      },
      "outputs": [],
      "source": [
        ""
      ]
    },
    {
      "cell_type": "markdown",
      "metadata": {
        "id": "NTF2yVLNDixr"
      },
      "source": [
        "### Tipos de datos *str*\n",
        "\n",
        "Representa secuencias o cadenas (string) de caracteres\n",
        "\n",
        "![image.png](attachment:ab4b4621-5803-4720-bfb3-5b0922a4915e.png)\n",
        "\n",
        "- ¿Cómo te llamas?\n",
        "- ¿Qué estás haciendo?\n",
        "- ¿Cuál es tú númeró telefónico?"
      ]
    },
    {
      "cell_type": "code",
      "execution_count": 7,
      "metadata": {
        "colab": {
          "base_uri": "https://localhost:8080/"
        },
        "id": "L3It7mJbDixr",
        "outputId": "e2098bb0-a545-4ace-c4b4-8a888b64e0cd"
      },
      "outputs": [
        {
          "output_type": "stream",
          "name": "stdout",
          "text": [
            "<class 'str'>\n"
          ]
        }
      ],
      "source": [
        "print(type(\"hola mundo\"))"
      ]
    },
    {
      "cell_type": "code",
      "execution_count": 8,
      "metadata": {
        "colab": {
          "base_uri": "https://localhost:8080/"
        },
        "id": "vsVztzXkDixs",
        "outputId": "a6756ba6-60ea-4ecb-f2b6-92e24c88bad9"
      },
      "outputs": [
        {
          "output_type": "execute_result",
          "data": {
            "text/plain": [
              "int"
            ]
          },
          "metadata": {},
          "execution_count": 8
        }
      ],
      "source": [
        "type(4)"
      ]
    },
    {
      "cell_type": "code",
      "execution_count": 10,
      "metadata": {
        "colab": {
          "base_uri": "https://localhost:8080/"
        },
        "id": "JgYt8QetDixs",
        "outputId": "d07f2bc6-0d32-46a3-a432-db4186750d98"
      },
      "outputs": [
        {
          "output_type": "execute_result",
          "data": {
            "text/plain": [
              "str"
            ]
          },
          "metadata": {},
          "execution_count": 10
        }
      ],
      "source": [
        "type(\"4\")"
      ]
    },
    {
      "cell_type": "code",
      "source": [
        "type('4')"
      ],
      "metadata": {
        "colab": {
          "base_uri": "https://localhost:8080/"
        },
        "id": "SimqVwxwE0oq",
        "outputId": "c112d975-5093-4d35-bf25-c41285e3b645"
      },
      "execution_count": 11,
      "outputs": [
        {
          "output_type": "execute_result",
          "data": {
            "text/plain": [
              "str"
            ]
          },
          "metadata": {},
          "execution_count": 11
        }
      ]
    },
    {
      "cell_type": "code",
      "execution_count": 12,
      "metadata": {
        "colab": {
          "base_uri": "https://localhost:8080/"
        },
        "id": "vRZWKPWSDixt",
        "outputId": "398b1394-9e1f-4070-ac08-7cee8db593e6"
      },
      "outputs": [
        {
          "output_type": "execute_result",
          "data": {
            "text/plain": [
              "str"
            ]
          },
          "metadata": {},
          "execution_count": 12
        }
      ],
      "source": [
        "type('otro mensaje')"
      ]
    },
    {
      "cell_type": "code",
      "source": [
        "type('1106083007')"
      ],
      "metadata": {
        "colab": {
          "base_uri": "https://localhost:8080/"
        },
        "id": "KXkp6RARFM0C",
        "outputId": "b2919d29-a1de-42fe-bc7a-7ceb873b1fbf"
      },
      "execution_count": 14,
      "outputs": [
        {
          "output_type": "execute_result",
          "data": {
            "text/plain": [
              "str"
            ]
          },
          "metadata": {},
          "execution_count": 14
        }
      ]
    },
    {
      "cell_type": "code",
      "source": [
        "type('matapia28@utpl.edu.ec')"
      ],
      "metadata": {
        "colab": {
          "base_uri": "https://localhost:8080/"
        },
        "id": "MHk-p_U5FV52",
        "outputId": "1fbecac4-6848-450c-cc20-63107a6429e1"
      },
      "execution_count": 15,
      "outputs": [
        {
          "output_type": "execute_result",
          "data": {
            "text/plain": [
              "str"
            ]
          },
          "metadata": {},
          "execution_count": 15
        }
      ]
    },
    {
      "cell_type": "code",
      "source": [
        ""
      ],
      "metadata": {
        "id": "BDM8WT7kFaLS"
      },
      "execution_count": null,
      "outputs": []
    },
    {
      "cell_type": "markdown",
      "metadata": {
        "id": "wLHyN-s6Dixu"
      },
      "source": [
        "### Tipos de datos boleanos\n",
        "¿Verdadero o Falso?\n",
        "\n",
        "![image.png](attachment:7cc8e11c-a7ae-4112-984c-b1876b4c4d36.png)"
      ]
    },
    {
      "cell_type": "code",
      "execution_count": 16,
      "metadata": {
        "colab": {
          "base_uri": "https://localhost:8080/"
        },
        "id": "ZMWZOOIPDixw",
        "outputId": "e3848361-5e4e-425e-8621-48d92c43ae20"
      },
      "outputs": [
        {
          "output_type": "execute_result",
          "data": {
            "text/plain": [
              "bool"
            ]
          },
          "metadata": {},
          "execution_count": 16
        }
      ],
      "source": [
        "type(True)"
      ]
    },
    {
      "cell_type": "code",
      "execution_count": 17,
      "metadata": {
        "colab": {
          "base_uri": "https://localhost:8080/"
        },
        "id": "djJQYgyKDixx",
        "outputId": "c500b06b-9810-4376-afb6-8d366ec6be5e"
      },
      "outputs": [
        {
          "output_type": "execute_result",
          "data": {
            "text/plain": [
              "bool"
            ]
          },
          "metadata": {},
          "execution_count": 17
        }
      ],
      "source": [
        "type(False)"
      ]
    },
    {
      "cell_type": "code",
      "execution_count": 18,
      "metadata": {
        "colab": {
          "base_uri": "https://localhost:8080/"
        },
        "id": "db9MHeEfDixx",
        "outputId": "066d8005-ba7a-4b7c-cb46-e1bc4b38d0a1"
      },
      "outputs": [
        {
          "output_type": "execute_result",
          "data": {
            "text/plain": [
              "str"
            ]
          },
          "metadata": {},
          "execution_count": 18
        }
      ],
      "source": [
        "type(\"False\")"
      ]
    },
    {
      "cell_type": "code",
      "execution_count": 19,
      "metadata": {
        "colab": {
          "base_uri": "https://localhost:8080/",
          "height": 169
        },
        "id": "8M5AMt_-Dixy",
        "outputId": "9350eefc-360e-410d-8b78-e11181c0d2aa"
      },
      "outputs": [
        {
          "output_type": "error",
          "ename": "NameError",
          "evalue": "ignored",
          "traceback": [
            "\u001b[0;31m---------------------------------------------------------------------------\u001b[0m",
            "\u001b[0;31mNameError\u001b[0m                                 Traceback (most recent call last)",
            "\u001b[0;32m<ipython-input-19-6f4d8242c3d0>\u001b[0m in \u001b[0;36m<module>\u001b[0;34m()\u001b[0m\n\u001b[0;32m----> 1\u001b[0;31m \u001b[0mtype\u001b[0m\u001b[0;34m(\u001b[0m\u001b[0mtrue\u001b[0m\u001b[0;34m)\u001b[0m\u001b[0;34m\u001b[0m\u001b[0;34m\u001b[0m\u001b[0m\n\u001b[0m",
            "\u001b[0;31mNameError\u001b[0m: name 'true' is not defined"
          ]
        }
      ],
      "source": [
        "type(true)"
      ]
    },
    {
      "cell_type": "markdown",
      "metadata": {
        "id": "o2H_GYxiDixy"
      },
      "source": [
        "## Operadores y expresiones"
      ]
    },
    {
      "cell_type": "code",
      "execution_count": 20,
      "metadata": {
        "colab": {
          "base_uri": "https://localhost:8080/"
        },
        "id": "F7wB7_AnDixz",
        "outputId": "72902810-88f9-4aea-cf24-b3907f7a13eb"
      },
      "outputs": [
        {
          "output_type": "execute_result",
          "data": {
            "text/plain": [
              "12"
            ]
          },
          "metadata": {},
          "execution_count": 20
        }
      ],
      "source": [
        "# suma\n",
        "7+5"
      ]
    },
    {
      "cell_type": "code",
      "execution_count": 21,
      "metadata": {
        "colab": {
          "base_uri": "https://localhost:8080/"
        },
        "id": "intBnqm_Dixz",
        "outputId": "de0ddb44-0070-4274-b8aa-1e6e6b0a2ab5"
      },
      "outputs": [
        {
          "output_type": "execute_result",
          "data": {
            "text/plain": [
              "2"
            ]
          },
          "metadata": {},
          "execution_count": 21
        }
      ],
      "source": [
        "# resta\n",
        "7-5"
      ]
    },
    {
      "cell_type": "code",
      "execution_count": 22,
      "metadata": {
        "colab": {
          "base_uri": "https://localhost:8080/"
        },
        "id": "zGU1_CNMDixz",
        "outputId": "c80f806f-ccf9-4bd2-8f65-552e696f645c"
      },
      "outputs": [
        {
          "output_type": "execute_result",
          "data": {
            "text/plain": [
              "35"
            ]
          },
          "metadata": {},
          "execution_count": 22
        }
      ],
      "source": [
        "# producto\n",
        "7*5"
      ]
    },
    {
      "cell_type": "code",
      "execution_count": 23,
      "metadata": {
        "colab": {
          "base_uri": "https://localhost:8080/"
        },
        "id": "Wn_QOnVfDix0",
        "outputId": "26100a65-e129-44f6-de1e-85c178b611b5"
      },
      "outputs": [
        {
          "output_type": "execute_result",
          "data": {
            "text/plain": [
              "1.4"
            ]
          },
          "metadata": {},
          "execution_count": 23
        }
      ],
      "source": [
        "# división\n",
        "7/5"
      ]
    },
    {
      "cell_type": "markdown",
      "metadata": {
        "id": "n3HpnEDMDix0"
      },
      "source": [
        "#### Operadores sobre int y float"
      ]
    },
    {
      "cell_type": "code",
      "execution_count": 24,
      "metadata": {
        "colab": {
          "base_uri": "https://localhost:8080/"
        },
        "id": "yhXlW3-VDix1",
        "outputId": "bfe64623-eafb-4565-9179-b899e7e939d7"
      },
      "outputs": [
        {
          "output_type": "execute_result",
          "data": {
            "text/plain": [
              "-5"
            ]
          },
          "metadata": {},
          "execution_count": 24
        }
      ],
      "source": [
        "# inverso aditivo\n",
        "-5"
      ]
    },
    {
      "cell_type": "code",
      "execution_count": 25,
      "metadata": {
        "colab": {
          "base_uri": "https://localhost:8080/"
        },
        "id": "FeNTjopODix1",
        "outputId": "a549113f-f73b-43c4-b343-2c5a8c2fb210"
      },
      "outputs": [
        {
          "output_type": "execute_result",
          "data": {
            "text/plain": [
              "16807"
            ]
          },
          "metadata": {},
          "execution_count": 25
        }
      ],
      "source": [
        "# exponenciación\n",
        "7 ** 5 "
      ]
    },
    {
      "cell_type": "code",
      "execution_count": 26,
      "metadata": {
        "colab": {
          "base_uri": "https://localhost:8080/"
        },
        "id": "2DY7PPQADix2",
        "outputId": "55592309-3a64-4bae-848e-8479050cd3eb"
      },
      "outputs": [
        {
          "output_type": "execute_result",
          "data": {
            "text/plain": [
              "1"
            ]
          },
          "metadata": {},
          "execution_count": 26
        }
      ],
      "source": [
        "# división entera\n",
        "7 // 5"
      ]
    },
    {
      "cell_type": "code",
      "execution_count": 28,
      "metadata": {
        "colab": {
          "base_uri": "https://localhost:8080/"
        },
        "id": "kB-1rrzRDix2",
        "outputId": "2a4a5d16-c184-4854-8c85-7c343cdf6a24"
      },
      "outputs": [
        {
          "output_type": "execute_result",
          "data": {
            "text/plain": [
              "2"
            ]
          },
          "metadata": {},
          "execution_count": 28
        }
      ],
      "source": [
        "# módulo\n",
        "7%5"
      ]
    },
    {
      "cell_type": "code",
      "source": [
        "12%2"
      ],
      "metadata": {
        "colab": {
          "base_uri": "https://localhost:8080/"
        },
        "id": "H2I5ms3kHouq",
        "outputId": "248a1327-8d11-427b-c2db-4a6790408e8c"
      },
      "execution_count": 29,
      "outputs": [
        {
          "output_type": "execute_result",
          "data": {
            "text/plain": [
              "0"
            ]
          },
          "metadata": {},
          "execution_count": 29
        }
      ]
    },
    {
      "cell_type": "code",
      "source": [
        "13%2"
      ],
      "metadata": {
        "colab": {
          "base_uri": "https://localhost:8080/"
        },
        "id": "XFve6AhkHqwK",
        "outputId": "5e3bcb42-eec5-4b34-a5c4-d89adbf158cd"
      },
      "execution_count": 30,
      "outputs": [
        {
          "output_type": "execute_result",
          "data": {
            "text/plain": [
              "1"
            ]
          },
          "metadata": {},
          "execution_count": 30
        }
      ]
    },
    {
      "cell_type": "code",
      "source": [
        ""
      ],
      "metadata": {
        "id": "KMLc6uYaHs0P"
      },
      "execution_count": null,
      "outputs": []
    },
    {
      "cell_type": "markdown",
      "metadata": {
        "id": "yvDqGC1VDix2"
      },
      "source": [
        "#### Precedencia y asociatividad\n",
        "\n",
        "PARTICIPAR EN JUEGO QUIZIZZ\n",
        "\n",
        "- Expresiones\tcon\tmás\tde\tun\toperador se\tevalúan\tpor\tprecedencia\n",
        "- Operaciones\tcon\tigual\tprecedencia\tse\tresuelven\tpor\torden\tde\tasociatividad\n",
        "\n",
        "![image.png](attachment:7e58902a-9df6-417d-8be4-c2b88888074b.png)"
      ]
    },
    {
      "cell_type": "code",
      "execution_count": 31,
      "metadata": {
        "colab": {
          "base_uri": "https://localhost:8080/"
        },
        "id": "VJ5Qu8PNDix3",
        "outputId": "df290681-d3eb-4275-807f-8a48db11974f"
      },
      "outputs": [
        {
          "output_type": "execute_result",
          "data": {
            "text/plain": [
              "1"
            ]
          },
          "metadata": {},
          "execution_count": 31
        }
      ],
      "source": [
        "(3+5//4-2)-2**4+3*(7-2)"
      ]
    },
    {
      "cell_type": "markdown",
      "metadata": {
        "id": "zUJ66geQDix4"
      },
      "source": [
        "#### Operadores de comparación"
      ]
    },
    {
      "cell_type": "markdown",
      "metadata": {
        "id": "IEo2MAjKDix4"
      },
      "source": [
        "Siempre\tentregan\tun\ttipo\tbool"
      ]
    },
    {
      "cell_type": "code",
      "execution_count": 32,
      "metadata": {
        "colab": {
          "base_uri": "https://localhost:8080/"
        },
        "id": "IsTwKHjzDix5",
        "outputId": "fc502b2f-4cf9-4df6-d102-3a9c08fc11ba"
      },
      "outputs": [
        {
          "output_type": "execute_result",
          "data": {
            "text/plain": [
              "True"
            ]
          },
          "metadata": {},
          "execution_count": 32
        }
      ],
      "source": [
        "# menor\n",
        "5 < 5.1"
      ]
    },
    {
      "cell_type": "code",
      "execution_count": 33,
      "metadata": {
        "colab": {
          "base_uri": "https://localhost:8080/"
        },
        "id": "OptiGXBMDix5",
        "outputId": "6923633d-eb27-47c4-e7e7-5ff9d527b1b3"
      },
      "outputs": [
        {
          "output_type": "execute_result",
          "data": {
            "text/plain": [
              "False"
            ]
          },
          "metadata": {},
          "execution_count": 33
        }
      ],
      "source": [
        "# mayor o igual\n",
        "3 >= 5"
      ]
    },
    {
      "cell_type": "code",
      "execution_count": 34,
      "metadata": {
        "colab": {
          "base_uri": "https://localhost:8080/"
        },
        "id": "hqb-Lw_-Dix5",
        "outputId": "f1f0bf24-49bd-4e32-e981-f2f55285e85a"
      },
      "outputs": [
        {
          "output_type": "execute_result",
          "data": {
            "text/plain": [
              "True"
            ]
          },
          "metadata": {},
          "execution_count": 34
        }
      ],
      "source": [
        "5 >= 5"
      ]
    },
    {
      "cell_type": "code",
      "execution_count": 35,
      "metadata": {
        "colab": {
          "base_uri": "https://localhost:8080/"
        },
        "id": "RT0nd9pTDix5",
        "outputId": "403e3d56-bb25-4189-c876-1d88f2824c81"
      },
      "outputs": [
        {
          "output_type": "execute_result",
          "data": {
            "text/plain": [
              "True"
            ]
          },
          "metadata": {},
          "execution_count": 35
        }
      ],
      "source": [
        "# distinto\n",
        "3 != 5"
      ]
    },
    {
      "cell_type": "code",
      "execution_count": 36,
      "metadata": {
        "colab": {
          "base_uri": "https://localhost:8080/"
        },
        "id": "ueiH_OWNDix6",
        "outputId": "931cb1c9-1700-4674-80f0-a0e07002d188"
      },
      "outputs": [
        {
          "output_type": "execute_result",
          "data": {
            "text/plain": [
              "False"
            ]
          },
          "metadata": {},
          "execution_count": 36
        }
      ],
      "source": [
        "# igualdad\n",
        "6 == 9"
      ]
    },
    {
      "cell_type": "markdown",
      "metadata": {
        "id": "chHaLFDODix6"
      },
      "source": [
        "#### Operadores lógicos o booleanos\n",
        "\n",
        "- Se aplican a bool: not, and, or\n",
        "- Siempre entregan un tipo bool"
      ]
    },
    {
      "cell_type": "code",
      "execution_count": 37,
      "metadata": {
        "colab": {
          "base_uri": "https://localhost:8080/"
        },
        "id": "3jbxTxP2Dix8",
        "outputId": "ed74d3cd-2b74-4bb4-cdc4-a4e24c82df59"
      },
      "outputs": [
        {
          "output_type": "execute_result",
          "data": {
            "text/plain": [
              "True"
            ]
          },
          "metadata": {},
          "execution_count": 37
        }
      ],
      "source": [
        "# negación\n",
        "not 3 > 5"
      ]
    },
    {
      "cell_type": "code",
      "execution_count": 38,
      "metadata": {
        "colab": {
          "base_uri": "https://localhost:8080/"
        },
        "id": "nVIE86BFDix8",
        "outputId": "d5edc8bb-e5b7-4c4c-d305-39e52ade6a8e"
      },
      "outputs": [
        {
          "output_type": "execute_result",
          "data": {
            "text/plain": [
              "False"
            ]
          },
          "metadata": {},
          "execution_count": 38
        }
      ],
      "source": [
        "# conjución lógica\n",
        "# p1        p2    \n",
        "3 > 5 and 2 < 6"
      ]
    },
    {
      "cell_type": "code",
      "execution_count": 39,
      "metadata": {
        "colab": {
          "base_uri": "https://localhost:8080/"
        },
        "id": "QBiGsKc6Dix9",
        "outputId": "e64be94e-e505-4961-e2ee-eb01eb2f64be"
      },
      "outputs": [
        {
          "output_type": "execute_result",
          "data": {
            "text/plain": [
              "True"
            ]
          },
          "metadata": {},
          "execution_count": 39
        }
      ],
      "source": [
        "# disyunción lógica\n",
        "3 > 5 or 2 < 6"
      ]
    },
    {
      "cell_type": "markdown",
      "metadata": {
        "id": "APWRwcmdDix-"
      },
      "source": [
        "#### Precedencias actualizadas\n",
        "\n",
        "![image.png](attachment:ceac3267-657e-4c33-8709-330ae078ed3d.png)"
      ]
    },
    {
      "cell_type": "code",
      "execution_count": 41,
      "metadata": {
        "colab": {
          "base_uri": "https://localhost:8080/"
        },
        "id": "uF7jymOaDix-",
        "outputId": "42feb36b-88e0-4856-eeed-91609efac622"
      },
      "outputs": [
        {
          "output_type": "execute_result",
          "data": {
            "text/plain": [
              "True"
            ]
          },
          "metadata": {},
          "execution_count": 41
        }
      ],
      "source": [
        "5 // 4 > 3 or 2 < 5 "
      ]
    },
    {
      "cell_type": "code",
      "execution_count": 40,
      "metadata": {
        "colab": {
          "base_uri": "https://localhost:8080/"
        },
        "id": "Mg9uru_HDix-",
        "outputId": "993b99b9-cf5b-487f-c223-73f4dee7f3fe"
      },
      "outputs": [
        {
          "output_type": "execute_result",
          "data": {
            "text/plain": [
              "True"
            ]
          },
          "metadata": {},
          "execution_count": 40
        }
      ],
      "source": [
        "# es equivalente a \n",
        "((5//4) > 3) or (2<(5**2))"
      ]
    },
    {
      "cell_type": "markdown",
      "metadata": {
        "id": "yvqdGkMKDix-"
      },
      "source": [
        "#### Sumando y multiplicando str"
      ]
    },
    {
      "cell_type": "code",
      "execution_count": 42,
      "metadata": {
        "colab": {
          "base_uri": "https://localhost:8080/",
          "height": 35
        },
        "id": "xuJgI1_1Dix-",
        "outputId": "bda2049d-7e63-45eb-b386-953302e27c38"
      },
      "outputs": [
        {
          "output_type": "execute_result",
          "data": {
            "text/plain": [
              "'Yo soy tu padre'"
            ],
            "application/vnd.google.colaboratory.intrinsic+json": {
              "type": "string"
            }
          },
          "metadata": {},
          "execution_count": 42
        }
      ],
      "source": [
        "# concatenación\n",
        "\"Yo soy \" +  \"tu padre\""
      ]
    },
    {
      "cell_type": "code",
      "execution_count": null,
      "metadata": {
        "id": "qCsqlCmhDix_"
      },
      "outputs": [],
      "source": [
        "# repetición\n",
        "\"Hola mundo\" * 4"
      ]
    },
    {
      "cell_type": "markdown",
      "metadata": {
        "id": "jVb_WgdsDiyA"
      },
      "source": [
        "## Manipulación de datos\n",
        "\n",
        "### Conversión de tipos"
      ]
    },
    {
      "cell_type": "markdown",
      "metadata": {
        "id": "mnM2GqVvDiyB"
      },
      "source": [
        "#### Valores del mismo tipo\n"
      ]
    },
    {
      "cell_type": "code",
      "execution_count": 43,
      "metadata": {
        "colab": {
          "base_uri": "https://localhost:8080/"
        },
        "id": "UbDRzdWEDiyB",
        "outputId": "e98979af-c6b6-4bcc-9c29-9befb4294afd"
      },
      "outputs": [
        {
          "output_type": "execute_result",
          "data": {
            "text/plain": [
              "27"
            ]
          },
          "metadata": {},
          "execution_count": 43
        }
      ],
      "source": [
        "3 * 9"
      ]
    },
    {
      "cell_type": "code",
      "execution_count": 44,
      "metadata": {
        "colab": {
          "base_uri": "https://localhost:8080/"
        },
        "id": "MgO9bU9EDiyC",
        "outputId": "27e4470b-9ac5-438f-e8cd-58c25ff0fac9"
      },
      "outputs": [
        {
          "output_type": "execute_result",
          "data": {
            "text/plain": [
              "7.57"
            ]
          },
          "metadata": {},
          "execution_count": 44
        }
      ],
      "source": [
        "5.2 + 2.37"
      ]
    },
    {
      "cell_type": "code",
      "execution_count": 45,
      "metadata": {
        "colab": {
          "base_uri": "https://localhost:8080/"
        },
        "id": "IdPebCcYDiyD",
        "outputId": "cd406125-ebe6-4624-9794-f2936d2302fb"
      },
      "outputs": [
        {
          "output_type": "execute_result",
          "data": {
            "text/plain": [
              "True"
            ]
          },
          "metadata": {},
          "execution_count": 45
        }
      ],
      "source": [
        "3 <= 5 and 7 > 6.5"
      ]
    },
    {
      "cell_type": "code",
      "execution_count": 46,
      "metadata": {
        "colab": {
          "base_uri": "https://localhost:8080/",
          "height": 35
        },
        "id": "8G8NDMiVDiyE",
        "outputId": "f101a223-7ab5-467e-dfde-af2e63c76e22"
      },
      "outputs": [
        {
          "output_type": "execute_result",
          "data": {
            "text/plain": [
              "'Donde queda Loja?'"
            ],
            "application/vnd.google.colaboratory.intrinsic+json": {
              "type": "string"
            }
          },
          "metadata": {},
          "execution_count": 46
        }
      ],
      "source": [
        "\"Donde queda\" + \" Loja?\""
      ]
    },
    {
      "cell_type": "code",
      "execution_count": 47,
      "metadata": {
        "colab": {
          "base_uri": "https://localhost:8080/"
        },
        "id": "mfN5Uy__DiyF",
        "outputId": "b2e602f7-4ffc-4a72-b7ac-21b67f05f910"
      },
      "outputs": [
        {
          "output_type": "execute_result",
          "data": {
            "text/plain": [
              "int"
            ]
          },
          "metadata": {},
          "execution_count": 47
        }
      ],
      "source": [
        "# revisando el tipo de dato que se obtiene\n",
        "type(3 * 9)"
      ]
    },
    {
      "cell_type": "code",
      "execution_count": 48,
      "metadata": {
        "colab": {
          "base_uri": "https://localhost:8080/"
        },
        "id": "gyb1VlemDiyF",
        "outputId": "58966ee0-b426-40db-9a64-c33c0b05e45c"
      },
      "outputs": [
        {
          "output_type": "execute_result",
          "data": {
            "text/plain": [
              "float"
            ]
          },
          "metadata": {},
          "execution_count": 48
        }
      ],
      "source": [
        "type(5.2 + 2.37)"
      ]
    },
    {
      "cell_type": "code",
      "execution_count": 49,
      "metadata": {
        "colab": {
          "base_uri": "https://localhost:8080/"
        },
        "id": "uS0FfokJDiyG",
        "outputId": "32a8bf12-a965-45c8-a807-93c654318b02"
      },
      "outputs": [
        {
          "output_type": "execute_result",
          "data": {
            "text/plain": [
              "bool"
            ]
          },
          "metadata": {},
          "execution_count": 49
        }
      ],
      "source": [
        "type(3 <= 5 and 7 > 6.5)"
      ]
    },
    {
      "cell_type": "code",
      "execution_count": 50,
      "metadata": {
        "colab": {
          "base_uri": "https://localhost:8080/"
        },
        "id": "VDkNEwbbDiyG",
        "outputId": "09086f96-82bc-4e86-e375-394a5a83aa45"
      },
      "outputs": [
        {
          "output_type": "execute_result",
          "data": {
            "text/plain": [
              "str"
            ]
          },
          "metadata": {},
          "execution_count": 50
        }
      ],
      "source": [
        "type(\"Dónde queda\" + \"Loja?\")"
      ]
    },
    {
      "cell_type": "markdown",
      "metadata": {
        "id": "ngWWRJbBDiyG"
      },
      "source": [
        "#### Valores de diferente tipo "
      ]
    },
    {
      "cell_type": "code",
      "execution_count": 51,
      "metadata": {
        "colab": {
          "base_uri": "https://localhost:8080/"
        },
        "id": "ZOXJf6WZDiyH",
        "outputId": "107f5593-d614-48d8-ec36-2950a8d06908"
      },
      "outputs": [
        {
          "output_type": "execute_result",
          "data": {
            "text/plain": [
              "16.11"
            ]
          },
          "metadata": {},
          "execution_count": 51
        }
      ],
      "source": [
        "3 * 5.37 # equivalente 3.0 * 5.37"
      ]
    },
    {
      "cell_type": "code",
      "execution_count": 52,
      "metadata": {
        "colab": {
          "base_uri": "https://localhost:8080/"
        },
        "id": "BxV54wlZDiyH",
        "outputId": "8cc96f3d-d654-45d2-9886-71451217d5d4"
      },
      "outputs": [
        {
          "output_type": "execute_result",
          "data": {
            "text/plain": [
              "5.333333333333333"
            ]
          },
          "metadata": {},
          "execution_count": 52
        }
      ],
      "source": [
        "8 / 1.5 # equivalente 8.0 / 1.5"
      ]
    },
    {
      "cell_type": "code",
      "execution_count": 53,
      "metadata": {
        "colab": {
          "base_uri": "https://localhost:8080/",
          "height": 35
        },
        "id": "TSoON0cWDiyH",
        "outputId": "585d16c3-2093-43b0-952a-41590cce9515"
      },
      "outputs": [
        {
          "output_type": "execute_result",
          "data": {
            "text/plain": [
              "'Son las 15'"
            ],
            "application/vnd.google.colaboratory.intrinsic+json": {
              "type": "string"
            }
          },
          "metadata": {},
          "execution_count": 53
        }
      ],
      "source": [
        "\"Son las \" + \"15\""
      ]
    },
    {
      "cell_type": "markdown",
      "metadata": {
        "id": "uAwZkdT9DiyH"
      },
      "source": [
        "#### Conversión de valores\n",
        "\n",
        "str() al rescate"
      ]
    },
    {
      "cell_type": "code",
      "execution_count": 54,
      "metadata": {
        "colab": {
          "base_uri": "https://localhost:8080/",
          "height": 35
        },
        "id": "JOqiARYGDiyI",
        "outputId": "d9f538c7-58ce-4f71-a718-ab6d93be32ea"
      },
      "outputs": [
        {
          "output_type": "execute_result",
          "data": {
            "text/plain": [
              "'15'"
            ],
            "application/vnd.google.colaboratory.intrinsic+json": {
              "type": "string"
            }
          },
          "metadata": {},
          "execution_count": 54
        }
      ],
      "source": [
        "str(15)"
      ]
    },
    {
      "cell_type": "code",
      "execution_count": 55,
      "metadata": {
        "colab": {
          "base_uri": "https://localhost:8080/"
        },
        "id": "mzlTJdxSDiyI",
        "outputId": "aa0dcd70-86a6-4173-8d96-a9c2d9ede5da"
      },
      "outputs": [
        {
          "output_type": "execute_result",
          "data": {
            "text/plain": [
              "str"
            ]
          },
          "metadata": {},
          "execution_count": 55
        }
      ],
      "source": [
        "type(str(15))"
      ]
    },
    {
      "cell_type": "code",
      "execution_count": 56,
      "metadata": {
        "colab": {
          "base_uri": "https://localhost:8080/",
          "height": 35
        },
        "id": "DFWdhyGVDiyI",
        "outputId": "29dce740-3f86-49cd-b6fc-afe7c6dce8f1"
      },
      "outputs": [
        {
          "output_type": "execute_result",
          "data": {
            "text/plain": [
              "'Son las 15'"
            ],
            "application/vnd.google.colaboratory.intrinsic+json": {
              "type": "string"
            }
          },
          "metadata": {},
          "execution_count": 56
        }
      ],
      "source": [
        "\"Son las \" + str(12 + 3)"
      ]
    },
    {
      "cell_type": "markdown",
      "metadata": {
        "id": "DITle4bjDiyI"
      },
      "source": [
        "#### Conversiones a int"
      ]
    },
    {
      "cell_type": "code",
      "execution_count": 57,
      "metadata": {
        "colab": {
          "base_uri": "https://localhost:8080/"
        },
        "id": "kFp2D4kxDiyJ",
        "outputId": "40507cd7-647c-40f5-d6d3-7bf1ea18ca06"
      },
      "outputs": [
        {
          "output_type": "execute_result",
          "data": {
            "text/plain": [
              "3"
            ]
          },
          "metadata": {},
          "execution_count": 57
        }
      ],
      "source": [
        "int(3.55546)"
      ]
    },
    {
      "cell_type": "code",
      "execution_count": 58,
      "metadata": {
        "id": "UrcjSed8DiyJ"
      },
      "outputs": [],
      "source": [
        "#\"3\" + 2"
      ]
    },
    {
      "cell_type": "code",
      "execution_count": 59,
      "metadata": {
        "colab": {
          "base_uri": "https://localhost:8080/"
        },
        "id": "5Ou0t5bHDiyJ",
        "outputId": "fad7e4c4-8da4-4c55-9f06-c4d0f7aaa71e"
      },
      "outputs": [
        {
          "output_type": "execute_result",
          "data": {
            "text/plain": [
              "5"
            ]
          },
          "metadata": {},
          "execution_count": 59
        }
      ],
      "source": [
        "int(\"3\") + 2"
      ]
    },
    {
      "cell_type": "code",
      "execution_count": 60,
      "metadata": {
        "colab": {
          "base_uri": "https://localhost:8080/",
          "height": 169
        },
        "id": "663a1YVqDiyK",
        "outputId": "8c8ecb40-713b-4b93-895c-a7891e101901"
      },
      "outputs": [
        {
          "output_type": "error",
          "ename": "ValueError",
          "evalue": "ignored",
          "traceback": [
            "\u001b[0;31m---------------------------------------------------------------------------\u001b[0m",
            "\u001b[0;31mValueError\u001b[0m                                Traceback (most recent call last)",
            "\u001b[0;32m<ipython-input-60-4d36bf9ca73e>\u001b[0m in \u001b[0;36m<module>\u001b[0;34m()\u001b[0m\n\u001b[0;32m----> 1\u001b[0;31m \u001b[0mint\u001b[0m\u001b[0;34m(\u001b[0m\u001b[0;34m\"El 3\"\u001b[0m\u001b[0;34m)\u001b[0m\u001b[0;34m\u001b[0m\u001b[0;34m\u001b[0m\u001b[0m\n\u001b[0m",
            "\u001b[0;31mValueError\u001b[0m: invalid literal for int() with base 10: 'El 3'"
          ]
        }
      ],
      "source": [
        "int(\"El 3\")"
      ]
    },
    {
      "cell_type": "markdown",
      "metadata": {
        "id": "G2mUGUZ0DiyK"
      },
      "source": [
        "#### Conversiones a float"
      ]
    },
    {
      "cell_type": "code",
      "execution_count": 61,
      "metadata": {
        "colab": {
          "base_uri": "https://localhost:8080/"
        },
        "id": "38D9DftDDiyL",
        "outputId": "4f2da3a1-3d08-4aa5-f48e-9c694dd52d61"
      },
      "outputs": [
        {
          "output_type": "execute_result",
          "data": {
            "text/plain": [
              "3.0"
            ]
          },
          "metadata": {},
          "execution_count": 61
        }
      ],
      "source": [
        "float(3)"
      ]
    },
    {
      "cell_type": "code",
      "execution_count": 62,
      "metadata": {
        "colab": {
          "base_uri": "https://localhost:8080/"
        },
        "id": "xnupPDVVDiyL",
        "outputId": "fae2fd98-c3c6-483d-c82f-e1b72c80a47e"
      },
      "outputs": [
        {
          "output_type": "execute_result",
          "data": {
            "text/plain": [
              "15.5"
            ]
          },
          "metadata": {},
          "execution_count": 62
        }
      ],
      "source": [
        "float(\"3.5\") + 12"
      ]
    },
    {
      "cell_type": "code",
      "execution_count": 63,
      "metadata": {
        "colab": {
          "base_uri": "https://localhost:8080/",
          "height": 169
        },
        "id": "5hlgM0npDiyL",
        "outputId": "d476999d-08cd-442d-9338-1cb4095b89d5"
      },
      "outputs": [
        {
          "output_type": "error",
          "ename": "ValueError",
          "evalue": "ignored",
          "traceback": [
            "\u001b[0;31m---------------------------------------------------------------------------\u001b[0m",
            "\u001b[0;31mValueError\u001b[0m                                Traceback (most recent call last)",
            "\u001b[0;32m<ipython-input-63-fada9a67a2e3>\u001b[0m in \u001b[0;36m<module>\u001b[0;34m()\u001b[0m\n\u001b[0;32m----> 1\u001b[0;31m \u001b[0mfloat\u001b[0m\u001b[0;34m(\u001b[0m\u001b[0;34m\"3.5s\"\u001b[0m\u001b[0;34m)\u001b[0m\u001b[0;34m\u001b[0m\u001b[0;34m\u001b[0m\u001b[0m\n\u001b[0m",
            "\u001b[0;31mValueError\u001b[0m: could not convert string to float: '3.5s'"
          ]
        }
      ],
      "source": [
        "float(\"3.5s\")"
      ]
    },
    {
      "cell_type": "code",
      "execution_count": 64,
      "metadata": {
        "colab": {
          "base_uri": "https://localhost:8080/"
        },
        "id": "BvVZCRmUDiyM",
        "outputId": "76700623-180a-47e4-90a7-837c1f1d489e"
      },
      "outputs": [
        {
          "output_type": "execute_result",
          "data": {
            "text/plain": [
              "30"
            ]
          },
          "metadata": {},
          "execution_count": 64
        }
      ],
      "source": [
        "int(\"15\") * int(\"2\")"
      ]
    },
    {
      "cell_type": "markdown",
      "metadata": {
        "id": "9kWDaORgDiyM"
      },
      "source": [
        "#### Lógicos\n",
        "\n",
        "0 ó \"\" es `False`, el resto es `True`"
      ]
    },
    {
      "cell_type": "code",
      "execution_count": 65,
      "metadata": {
        "colab": {
          "base_uri": "https://localhost:8080/"
        },
        "id": "jCgYLnl-DiyN",
        "outputId": "3c5af1b6-006f-42de-d74e-4638fac57e45"
      },
      "outputs": [
        {
          "output_type": "execute_result",
          "data": {
            "text/plain": [
              "False"
            ]
          },
          "metadata": {},
          "execution_count": 65
        }
      ],
      "source": [
        "bool(0)"
      ]
    },
    {
      "cell_type": "code",
      "execution_count": 66,
      "metadata": {
        "colab": {
          "base_uri": "https://localhost:8080/"
        },
        "id": "S3T5iFiJDiyN",
        "outputId": "171068b7-3e95-44f5-87ce-b364f460aad8"
      },
      "outputs": [
        {
          "output_type": "execute_result",
          "data": {
            "text/plain": [
              "False"
            ]
          },
          "metadata": {},
          "execution_count": 66
        }
      ],
      "source": [
        "bool(\"\")"
      ]
    },
    {
      "cell_type": "code",
      "execution_count": 67,
      "metadata": {
        "colab": {
          "base_uri": "https://localhost:8080/"
        },
        "id": "lyKpjLc2DiyN",
        "outputId": "2fa9f989-8fec-4ee3-b4b8-538c19be1165"
      },
      "outputs": [
        {
          "output_type": "execute_result",
          "data": {
            "text/plain": [
              "True"
            ]
          },
          "metadata": {},
          "execution_count": 67
        }
      ],
      "source": [
        "bool(15.5)"
      ]
    },
    {
      "cell_type": "code",
      "execution_count": 68,
      "metadata": {
        "colab": {
          "base_uri": "https://localhost:8080/"
        },
        "id": "EEwJWTvyDiyN",
        "outputId": "340242bc-76f2-4f98-d55d-0a82a0147d0c"
      },
      "outputs": [
        {
          "output_type": "execute_result",
          "data": {
            "text/plain": [
              "True"
            ]
          },
          "metadata": {},
          "execution_count": 68
        }
      ],
      "source": [
        "bool(\"True\")"
      ]
    },
    {
      "cell_type": "code",
      "execution_count": 69,
      "metadata": {
        "colab": {
          "base_uri": "https://localhost:8080/"
        },
        "id": "hl2KgkObDiyO",
        "outputId": "1ecaf496-9c69-4b8d-a958-6aeb723411b5"
      },
      "outputs": [
        {
          "output_type": "execute_result",
          "data": {
            "text/plain": [
              "True"
            ]
          },
          "metadata": {},
          "execution_count": 69
        }
      ],
      "source": [
        "bool(\"False\")"
      ]
    },
    {
      "cell_type": "code",
      "execution_count": 70,
      "metadata": {
        "colab": {
          "base_uri": "https://localhost:8080/"
        },
        "id": "juFqHGHADiyO",
        "outputId": "5a40bdc4-f60c-498c-cb62-80547bf3da9a"
      },
      "outputs": [
        {
          "output_type": "execute_result",
          "data": {
            "text/plain": [
              "True"
            ]
          },
          "metadata": {},
          "execution_count": 70
        }
      ],
      "source": [
        "bool(\"0\")"
      ]
    },
    {
      "cell_type": "markdown",
      "metadata": {
        "id": "ycg2wgoFDiyO"
      },
      "source": [
        "#### Conversiones a str "
      ]
    },
    {
      "cell_type": "code",
      "execution_count": 71,
      "metadata": {
        "colab": {
          "base_uri": "https://localhost:8080/",
          "height": 35
        },
        "id": "DU-yKSkUDiyO",
        "outputId": "f2658ac1-36de-4179-9040-20bd756ae79b"
      },
      "outputs": [
        {
          "output_type": "execute_result",
          "data": {
            "text/plain": [
              "'3.0'"
            ],
            "application/vnd.google.colaboratory.intrinsic+json": {
              "type": "string"
            }
          },
          "metadata": {},
          "execution_count": 71
        }
      ],
      "source": [
        "str(3.0)"
      ]
    },
    {
      "cell_type": "code",
      "execution_count": 72,
      "metadata": {
        "colab": {
          "base_uri": "https://localhost:8080/",
          "height": 35
        },
        "id": "XW_ANSzuDiyO",
        "outputId": "a51c75ae-a7fd-45a6-8664-2890fb0dc3ec"
      },
      "outputs": [
        {
          "output_type": "execute_result",
          "data": {
            "text/plain": [
              "'9.76 segundos'"
            ],
            "application/vnd.google.colaboratory.intrinsic+json": {
              "type": "string"
            }
          },
          "metadata": {},
          "execution_count": 72
        }
      ],
      "source": [
        "str(8 + 1.76) + \" segundos\""
      ]
    },
    {
      "cell_type": "code",
      "execution_count": 73,
      "metadata": {
        "colab": {
          "base_uri": "https://localhost:8080/",
          "height": 35
        },
        "id": "F1aGgN6cDiyP",
        "outputId": "05be5a50-a0fa-45dc-e46f-906cdb3b1101"
      },
      "outputs": [
        {
          "output_type": "execute_result",
          "data": {
            "text/plain": [
              "'True'"
            ],
            "application/vnd.google.colaboratory.intrinsic+json": {
              "type": "string"
            }
          },
          "metadata": {},
          "execution_count": 73
        }
      ],
      "source": [
        "str(3 < 5 and 9.76 < 10)"
      ]
    },
    {
      "cell_type": "markdown",
      "metadata": {
        "id": "cDh6JiUpDiyP"
      },
      "source": [
        "## Recordando valores"
      ]
    },
    {
      "cell_type": "markdown",
      "metadata": {
        "id": "vttrAqfkDiyQ"
      },
      "source": [
        "#### Variables y asignación"
      ]
    },
    {
      "cell_type": "code",
      "execution_count": 74,
      "metadata": {
        "colab": {
          "base_uri": "https://localhost:8080/"
        },
        "id": "l95PlyBBDiyR",
        "outputId": "2b70005d-cdec-4b13-bad9-62f946b7755a"
      },
      "outputs": [
        {
          "output_type": "execute_result",
          "data": {
            "text/plain": [
              "1000"
            ]
          },
          "metadata": {},
          "execution_count": 74
        }
      ],
      "source": [
        "(19 - 14) * 200"
      ]
    },
    {
      "cell_type": "code",
      "source": [
        "(20 - 12) * 200"
      ],
      "metadata": {
        "colab": {
          "base_uri": "https://localhost:8080/"
        },
        "id": "A72QcHraSyQf",
        "outputId": "dab0faea-666f-4ef9-fde0-a8bd9dd8b664"
      },
      "execution_count": 75,
      "outputs": [
        {
          "output_type": "execute_result",
          "data": {
            "text/plain": [
              "1600"
            ]
          },
          "metadata": {},
          "execution_count": 75
        }
      ]
    },
    {
      "cell_type": "code",
      "execution_count": 76,
      "metadata": {
        "colab": {
          "base_uri": "https://localhost:8080/"
        },
        "id": "2_8OgbM5DiyR",
        "outputId": "11582a26-bb0d-4f7b-df7d-46b210f9819e"
      },
      "outputs": [
        {
          "output_type": "execute_result",
          "data": {
            "text/plain": [
              "1600"
            ]
          },
          "metadata": {},
          "execution_count": 76
        }
      ],
      "source": [
        "# recordar valores para usarlos posteriormente\n",
        "pesos_por_hora = 200\n",
        "salida = 20\n",
        "llegada = 12\n",
        "(salida - llegada) * pesos_por_hora"
      ]
    },
    {
      "cell_type": "markdown",
      "metadata": {
        "id": "trDbvRLtDiyS"
      },
      "source": [
        "#### Asignación\n",
        "\n",
        "~~~\n",
        "nombre = expresión\n",
        "~~~"
      ]
    },
    {
      "cell_type": "code",
      "execution_count": 77,
      "metadata": {
        "colab": {
          "base_uri": "https://localhost:8080/"
        },
        "id": "FnpP_d3WDiyS",
        "outputId": "8c875186-83f8-4852-ad61-1a09a75912d1"
      },
      "outputs": [
        {
          "output_type": "execute_result",
          "data": {
            "text/plain": [
              "78.53975"
            ]
          },
          "metadata": {},
          "execution_count": 77
        }
      ],
      "source": [
        "r = 5\n",
        "pi = 3.14159\n",
        "area = pi * r ** 2\n",
        "area\n"
      ]
    },
    {
      "cell_type": "code",
      "source": [
        "r"
      ],
      "metadata": {
        "colab": {
          "base_uri": "https://localhost:8080/"
        },
        "id": "_DA6Jd3BTuVO",
        "outputId": "aa0574ec-5ee3-46c1-8563-b5acbf7c19b5"
      },
      "execution_count": 78,
      "outputs": [
        {
          "output_type": "execute_result",
          "data": {
            "text/plain": [
              "5"
            ]
          },
          "metadata": {},
          "execution_count": 78
        }
      ]
    },
    {
      "cell_type": "code",
      "source": [
        "print(r)"
      ],
      "metadata": {
        "colab": {
          "base_uri": "https://localhost:8080/"
        },
        "id": "pjSmrJC9T17O",
        "outputId": "6edebbbc-351e-4e9c-d4a6-5df0355e3c1a"
      },
      "execution_count": 79,
      "outputs": [
        {
          "output_type": "stream",
          "name": "stdout",
          "text": [
            "5\n"
          ]
        }
      ]
    },
    {
      "cell_type": "code",
      "execution_count": 80,
      "metadata": {
        "id": "SRHsrpziDiyT"
      },
      "outputs": [],
      "source": [
        "# reasignando valores\n",
        "r = 12.8"
      ]
    },
    {
      "cell_type": "code",
      "source": [
        "area = pi * r ** 2\n",
        "area"
      ],
      "metadata": {
        "colab": {
          "base_uri": "https://localhost:8080/"
        },
        "id": "eHw3M8dXT8c7",
        "outputId": "8a1be0a9-b089-4699-f02e-59a93ce91405"
      },
      "execution_count": 83,
      "outputs": [
        {
          "output_type": "execute_result",
          "data": {
            "text/plain": [
              "514.7181056000001"
            ]
          },
          "metadata": {},
          "execution_count": 83
        }
      ]
    },
    {
      "cell_type": "code",
      "source": [
        ""
      ],
      "metadata": {
        "id": "X14mRBqdUE7E"
      },
      "execution_count": null,
      "outputs": []
    },
    {
      "cell_type": "markdown",
      "metadata": {
        "id": "8_7Xe2vhDiyT"
      },
      "source": [
        "#### Nombres de variables\n"
      ]
    },
    {
      "cell_type": "markdown",
      "metadata": {
        "id": "7PbSJkc8DiyT"
      },
      "source": [
        "![image.png](attachment:bf03c5cf-9162-4f51-94f1-4aa8a0427752.png)"
      ]
    },
    {
      "cell_type": "code",
      "execution_count": null,
      "metadata": {
        "id": "XiOE_-OcDiyT"
      },
      "outputs": [],
      "source": [
        "peso_pers = 12\n",
        "peso_mascota = 5\n",
        "edad = 12\n",
        "time_start = 23\n",
        "time_end = 50\n"
      ]
    },
    {
      "cell_type": "markdown",
      "metadata": {
        "id": "jq9J_XOnDiyV"
      },
      "source": [
        "## Escribiendo en pantalla\n",
        "\n",
        "¿Cómo comunico un resultado?"
      ]
    },
    {
      "cell_type": "code",
      "execution_count": null,
      "metadata": {
        "id": "HC1pn87qDiyW"
      },
      "outputs": [],
      "source": [
        "pesos_por_hora = 200\n",
        "llegada = 20\n",
        "salida = 22\n",
        "precio = (salida - llegada) * pesos_por_hora\n",
        "print(precio)\n",
        "\n"
      ]
    },
    {
      "cell_type": "code",
      "execution_count": null,
      "metadata": {
        "id": "2lGj3-y0DiyX"
      },
      "outputs": [],
      "source": [
        "# escribir el programa anterior en un archivo .py"
      ]
    },
    {
      "cell_type": "markdown",
      "metadata": {
        "id": "BcaDIVy9DiyX"
      },
      "source": [
        "### print(expresion) "
      ]
    },
    {
      "cell_type": "code",
      "execution_count": 84,
      "metadata": {
        "colab": {
          "base_uri": "https://localhost:8080/"
        },
        "id": "Qs58zAGFDiyY",
        "outputId": "07c82ab8-43de-47c0-9ed1-c9892a1e42be"
      },
      "outputs": [
        {
          "output_type": "stream",
          "name": "stdout",
          "text": [
            "hola mundo\n"
          ]
        }
      ],
      "source": [
        "print(\"hola mundo\")"
      ]
    },
    {
      "cell_type": "code",
      "execution_count": 85,
      "metadata": {
        "colab": {
          "base_uri": "https://localhost:8080/"
        },
        "id": "Y-Yxt2HGDiyZ",
        "outputId": "cf3db478-c190-4c22-efc3-4a70c56bc935"
      },
      "outputs": [
        {
          "output_type": "stream",
          "name": "stdout",
          "text": [
            "Hola mundo\n"
          ]
        }
      ],
      "source": [
        "mensaje = \"Hola mundo\"\n",
        "print(mensaje)"
      ]
    },
    {
      "cell_type": "code",
      "execution_count": 86,
      "metadata": {
        "colab": {
          "base_uri": "https://localhost:8080/"
        },
        "id": "t9fnYmQdDiyZ",
        "outputId": "508ad83d-ecdc-4b1a-b51c-b1c9f158c19e"
      },
      "outputs": [
        {
          "output_type": "stream",
          "name": "stdout",
          "text": [
            "1\n"
          ]
        }
      ],
      "source": [
        "# imprimir expresiones\n",
        "print((3+5//4-2)-2**4+3*(7-2))"
      ]
    },
    {
      "cell_type": "code",
      "execution_count": 87,
      "metadata": {
        "colab": {
          "base_uri": "https://localhost:8080/"
        },
        "id": "JkEuyqm7Diya",
        "outputId": "f638e350-cd71-4b4a-8ce6-3a84ed4a0de4"
      },
      "outputs": [
        {
          "output_type": "stream",
          "name": "stdout",
          "text": [
            "32.77777777777778\n"
          ]
        }
      ],
      "source": [
        "# imprimir variables calculadas previamente\n",
        "fahrenheit = 91\n",
        "celsius = (fahrenheit - 32) * 5/9\n",
        "print(celsius)"
      ]
    },
    {
      "cell_type": "code",
      "execution_count": 88,
      "metadata": {
        "colab": {
          "base_uri": "https://localhost:8080/"
        },
        "id": "zwJLf-pKDiya",
        "outputId": "e830f053-fef7-4efe-a19c-76905aa6dd06"
      },
      "outputs": [
        {
          "output_type": "stream",
          "name": "stdout",
          "text": [
            "True\n"
          ]
        }
      ],
      "source": [
        "# imprimir expresiones con variables\n",
        "temperatura = 33\n",
        "print(temperatura >= 30)"
      ]
    },
    {
      "cell_type": "code",
      "execution_count": 89,
      "metadata": {
        "colab": {
          "base_uri": "https://localhost:8080/"
        },
        "id": "L1JzPTI0Diya",
        "outputId": "f3ede114-2cbe-4b8a-88b3-21033b2321dc"
      },
      "outputs": [
        {
          "output_type": "stream",
          "name": "stdout",
          "text": [
            "True\n"
          ]
        }
      ],
      "source": [
        "edad = 21\n",
        "es_mayor_edad = edad > 18\n",
        "print(es_mayor_edad)"
      ]
    },
    {
      "cell_type": "markdown",
      "metadata": {
        "id": "XHS0oT1gDiyc"
      },
      "source": [
        "#### Escribiendo en la misma línea\n"
      ]
    },
    {
      "cell_type": "code",
      "execution_count": 90,
      "metadata": {
        "colab": {
          "base_uri": "https://localhost:8080/"
        },
        "id": "KaEY4BdKDiyc",
        "outputId": "4ff90fe2-77c0-4b77-c8aa-a87101e2451b"
      },
      "outputs": [
        {
          "output_type": "stream",
          "name": "stdout",
          "text": [
            "Episodio\n",
            "3\n",
            "del libro\n"
          ]
        }
      ],
      "source": [
        "episodio = 3\n",
        "print(\"Episodio\")\n",
        "print(episodio)\n",
        "print(\"del libro\")"
      ]
    },
    {
      "cell_type": "code",
      "execution_count": 91,
      "metadata": {
        "colab": {
          "base_uri": "https://localhost:8080/"
        },
        "id": "5nd6-adIDiyc",
        "outputId": "0ae0530d-2e4b-4374-b982-9c50fe6dcdee"
      },
      "outputs": [
        {
          "output_type": "stream",
          "name": "stdout",
          "text": [
            "Episodio 3 del libro\n"
          ]
        }
      ],
      "source": [
        "# imprimir múltiples expresiones\n",
        "episodio = 3\n",
        "print(\"Episodio\", episodio, \"del libro\")"
      ]
    },
    {
      "cell_type": "code",
      "execution_count": 92,
      "metadata": {
        "colab": {
          "base_uri": "https://localhost:8080/"
        },
        "id": "HZzhbyyIDiyc",
        "outputId": "bb9b52f5-6a78-47ac-9060-9766a402589c"
      },
      "outputs": [
        {
          "output_type": "stream",
          "name": "stdout",
          "text": [
            "Episodio 3 del libro \n"
          ]
        }
      ],
      "source": [
        "# uso de print formateado\n",
        "print(f\"Episodio {episodio} del libro \")"
      ]
    },
    {
      "cell_type": "markdown",
      "metadata": {
        "id": "bL83F6VaDiyd"
      },
      "source": [
        "#### Cambiando el fin de línea\n",
        "~~~\n",
        "print(expr, end=str)\n",
        "~~~"
      ]
    },
    {
      "cell_type": "code",
      "execution_count": 93,
      "metadata": {
        "colab": {
          "base_uri": "https://localhost:8080/"
        },
        "id": "mK9FEw3RDiyd",
        "outputId": "15e50afb-e5f8-4f7e-ba30-d1b4686f8757"
      },
      "outputs": [
        {
          "output_type": "stream",
          "name": "stdout",
          "text": [
            "Soy Cristian y tengo 38 años\n",
            "cumplidos\n"
          ]
        }
      ],
      "source": [
        "nombre = \"Cristian\"\n",
        "edad = 38\n",
        "print(\"Soy\", nombre, end = \" \")\n",
        "print(\"y tengo\", edad, \"años\")\n",
        "print(\"cumplidos\")"
      ]
    },
    {
      "cell_type": "code",
      "execution_count": 94,
      "metadata": {
        "colab": {
          "base_uri": "https://localhost:8080/"
        },
        "id": "sZYHuqVIDiyd",
        "outputId": "71780587-080a-48b2-cf32-78a1c210399d"
      },
      "outputs": [
        {
          "output_type": "stream",
          "name": "stdout",
          "text": [
            "Este print 😎 no cambia de línea;)"
          ]
        }
      ],
      "source": [
        "print(\"Este print\", end=\" 😎 \")\n",
        "print(\"no cambia\", \"de línea\", end = \";)\")"
      ]
    },
    {
      "cell_type": "markdown",
      "metadata": {
        "id": "62XKFJwZDiye"
      },
      "source": [
        "#### Cambiando el separador"
      ]
    },
    {
      "cell_type": "code",
      "execution_count": null,
      "metadata": {
        "id": "6ORGKT2KDiye"
      },
      "outputs": [],
      "source": [
        "primer_mensaje = \"Hoy habrá\"\n",
        "temperatura = 34\n",
        "segundo_mensaje = \"grados\"\n",
        "print(primer_mensaje, temperatura, segundo_mensaje)"
      ]
    },
    {
      "cell_type": "code",
      "execution_count": 95,
      "metadata": {
        "colab": {
          "base_uri": "https://localhost:8080/"
        },
        "id": "pv2jMqXYDiye",
        "outputId": "ebda2e59-311f-49db-ddfc-81b085fee367"
      },
      "outputs": [
        {
          "output_type": "stream",
          "name": "stdout",
          "text": [
            "- El tesoro🌄está🌄en\n"
          ]
        }
      ],
      "source": [
        "# cambiar el separador de expresiones\n",
        "print(\"- El tesoro\", \"está\", \"en\", sep=\"🌄\")"
      ]
    },
    {
      "cell_type": "code",
      "source": [
        ""
      ],
      "metadata": {
        "id": "lbXP0WKdXobQ"
      },
      "execution_count": null,
      "outputs": []
    },
    {
      "cell_type": "markdown",
      "metadata": {
        "id": "g3eD2m51Diyg"
      },
      "source": [
        "## Recibiendo datos del usuario\n",
        "\n",
        "~~~\n",
        "input\n",
        "~~~"
      ]
    },
    {
      "cell_type": "markdown",
      "metadata": {
        "id": "KQz94yNZDiyg"
      },
      "source": [
        "*Problema:* Programa que salude al usuario"
      ]
    },
    {
      "cell_type": "code",
      "execution_count": 96,
      "metadata": {
        "colab": {
          "base_uri": "https://localhost:8080/"
        },
        "id": "U0FTIZ7WDiyg",
        "outputId": "20acdc13-cca2-4ad5-8af0-c2d43ae66a0b"
      },
      "outputs": [
        {
          "output_type": "stream",
          "name": "stdout",
          "text": [
            "Hola, Dr. Nick ¿cómo estás hoy?\n"
          ]
        }
      ],
      "source": [
        "nombre = \"Dr. Nick\"\n",
        "saludo = \"Hola,\"\n",
        "pregunta = \"¿cómo estás hoy?\"\n",
        "print(saludo, nombre, pregunta)"
      ]
    },
    {
      "cell_type": "code",
      "execution_count": 97,
      "metadata": {
        "colab": {
          "base_uri": "https://localhost:8080/"
        },
        "id": "ZDoAfTJnDiyg",
        "outputId": "cf6e623f-8af8-4200-ca63-51382eea2e55"
      },
      "outputs": [
        {
          "output_type": "stream",
          "name": "stdout",
          "text": [
            "Hola, Valeria ¿cómo estás hoy?\n"
          ]
        }
      ],
      "source": [
        "# lo mismo pero ahora para saluda a Valeria\n",
        "nombre = \"Valeria\"\n",
        "saludo = \"Hola,\"\n",
        "pregunta = \"¿cómo estás hoy?\"\n",
        "print(saludo, nombre, pregunta)"
      ]
    },
    {
      "cell_type": "code",
      "execution_count": 98,
      "metadata": {
        "colab": {
          "base_uri": "https://localhost:8080/"
        },
        "id": "FVwIZjRfDiyh",
        "outputId": "375ec6aa-5f72-4230-ba2c-a4b43e370744"
      },
      "outputs": [
        {
          "output_type": "stream",
          "name": "stdout",
          "text": [
            "¿Cuál es tu nombre?Miguel\n",
            "Hola, Miguel ¿cómo estás hoy?\n"
          ]
        }
      ],
      "source": [
        "# ¿Cómo obtengo el nombre del usuario? utilizar función input(msg), msg -> ¿Cuál es tu nombre?\n",
        "\n",
        "nombre = input(\"¿Cuál es tu nombre?\")\n",
        "saludo = \"Hola,\"\n",
        "pregunta = \"¿cómo estás hoy?\"\n",
        "print(saludo, nombre, pregunta)"
      ]
    },
    {
      "cell_type": "markdown",
      "metadata": {
        "id": "jcnyHKBzDiyh"
      },
      "source": [
        "*Problema:* Programa que dice cuánto te falta"
      ]
    },
    {
      "cell_type": "code",
      "execution_count": 99,
      "metadata": {
        "colab": {
          "base_uri": "https://localhost:8080/",
          "height": 241
        },
        "id": "JrEn60PZDiyh",
        "outputId": "f7e049e1-cffd-4aef-e4de-00c5d9d1a3fd"
      },
      "outputs": [
        {
          "name": "stdout",
          "output_type": "stream",
          "text": [
            "¿Cuántas lecciones has visto?2\n"
          ]
        },
        {
          "output_type": "error",
          "ename": "TypeError",
          "evalue": "ignored",
          "traceback": [
            "\u001b[0;31m---------------------------------------------------------------------------\u001b[0m",
            "\u001b[0;31mTypeError\u001b[0m                                 Traceback (most recent call last)",
            "\u001b[0;32m<ipython-input-99-e22d84f7407e>\u001b[0m in \u001b[0;36m<module>\u001b[0;34m()\u001b[0m\n\u001b[1;32m      2\u001b[0m \u001b[0mlec\u001b[0m \u001b[0;34m=\u001b[0m \u001b[0minput\u001b[0m\u001b[0;34m(\u001b[0m\u001b[0;34m\"¿Cuántas lecciones has visto?\"\u001b[0m\u001b[0;34m)\u001b[0m\u001b[0;34m\u001b[0m\u001b[0;34m\u001b[0m\u001b[0m\n\u001b[1;32m      3\u001b[0m \u001b[0mtotal\u001b[0m \u001b[0;34m=\u001b[0m \u001b[0;36m16\u001b[0m\u001b[0;34m\u001b[0m\u001b[0;34m\u001b[0m\u001b[0m\n\u001b[0;32m----> 4\u001b[0;31m \u001b[0mfaltan\u001b[0m \u001b[0;34m=\u001b[0m \u001b[0mtotal\u001b[0m \u001b[0;34m-\u001b[0m \u001b[0mlec\u001b[0m\u001b[0;34m\u001b[0m\u001b[0;34m\u001b[0m\u001b[0m\n\u001b[0m\u001b[1;32m      5\u001b[0m \u001b[0mprint\u001b[0m\u001b[0;34m(\u001b[0m\u001b[0;34mf\"Te faltan {faltan} lecciones. ¡Ánimo!\"\u001b[0m\u001b[0;34m)\u001b[0m\u001b[0;34m\u001b[0m\u001b[0;34m\u001b[0m\u001b[0m\n",
            "\u001b[0;31mTypeError\u001b[0m: unsupported operand type(s) for -: 'int' and 'str'"
          ]
        }
      ],
      "source": [
        "# analizar el problema que se presenta en el programa\n",
        "numero_clases = input(\"¿Cuántas lecciones has visto?\")\n",
        "cantidad_clases = 16\n",
        "faltan = cantidad_clases - numero_clases\n",
        "print(f\"Te faltan {faltan} lecciones. ¡Ánimo!\")"
      ]
    },
    {
      "cell_type": "code",
      "execution_count": 101,
      "metadata": {
        "colab": {
          "base_uri": "https://localhost:8080/"
        },
        "id": "Ovxel6saDiyi",
        "outputId": "be625fc4-9864-4462-a86c-f949332b4cca"
      },
      "outputs": [
        {
          "output_type": "stream",
          "name": "stdout",
          "text": [
            "¿Cuántas lecciones has visto?2\n",
            "<class 'str'>\n"
          ]
        }
      ],
      "source": [
        "# analizando el tipo de entrada de la función input\n",
        "lec = input(\"¿Cuántas lecciones has visto?\")\n",
        "print(type(lec))\n"
      ]
    },
    {
      "cell_type": "code",
      "execution_count": null,
      "metadata": {
        "id": "GqWwmappDiyi"
      },
      "outputs": [],
      "source": [
        "# conversión de tipos al rescate \n",
        "lec = input(\"¿Cuántas lecciones has visto?\")\n",
        "total = 15\n",
        "faltan = total - lec\n",
        "print(f\"Te faltan {faltan} lecciones. ¡Ánimo!\")"
      ]
    },
    {
      "cell_type": "markdown",
      "metadata": {
        "id": "lJoMz_oBDiyj"
      },
      "source": [
        "#### Conversión de tipos de entrada"
      ]
    },
    {
      "cell_type": "code",
      "execution_count": null,
      "metadata": {
        "id": "SoQn3AdADiyj"
      },
      "outputs": [],
      "source": [
        "# conversión a int\n",
        "monedas = int(input(\"¿Cuántas monedas tienes?\"))\n",
        "siguiente = monedas + 1\n",
        "print(\"Yo tengo más. Tengo\", siguiente)\n"
      ]
    },
    {
      "cell_type": "code",
      "execution_count": null,
      "metadata": {
        "id": "YFZYfG-zDiyj"
      },
      "outputs": [],
      "source": [
        "# conversión a float\n",
        "t = float(input(\"¿En cuantos segs corres 100m?\"))\n",
        "dif = t - 9.58\n",
        "print(\"Eres \", dif, \"segundos más lento que Bolt\")\n"
      ]
    },
    {
      "cell_type": "code",
      "execution_count": null,
      "metadata": {
        "id": "s73u2lQ3Diyk"
      },
      "outputs": [],
      "source": [
        "# conversión a bool\n",
        "ingreso = bool(input(\"Ingresa tu nombre: \"))\n",
        "print(\"Nombre ingresado: \", ingreso)"
      ]
    },
    {
      "cell_type": "markdown",
      "metadata": {
        "id": "v78Q4006Diyk"
      },
      "source": [
        "## RETOS"
      ]
    },
    {
      "cell_type": "markdown",
      "metadata": {
        "id": "AcXq7FdeDiyk"
      },
      "source": [
        "### Problema 1\n",
        "\n",
        "Escribir las siguientes expresiones en forma de expresiones algorítmicas\n",
        "\n",
        "$$M + \\frac{N}{P-Q}$$\n",
        "\n",
        "$$\\frac{seno(x) + cos(x)}{tan(x)}$$\n",
        "\n",
        "$$\\frac{m+\\frac{n}{p}}{q-\\frac{r}{5}}$$\n",
        "\n",
        "$$\\frac{-b+\\sqrt{b^2-4ac}}{2a}$$"
      ]
    },
    {
      "cell_type": "code",
      "execution_count": null,
      "metadata": {
        "id": "AQ0lEp2fDiyl"
      },
      "outputs": [],
      "source": [
        ""
      ]
    },
    {
      "cell_type": "code",
      "execution_count": null,
      "metadata": {
        "id": "hAmZJoPsDiyl"
      },
      "outputs": [],
      "source": [
        ""
      ]
    },
    {
      "cell_type": "code",
      "execution_count": null,
      "metadata": {
        "id": "lgrhPOaKDiyl"
      },
      "outputs": [],
      "source": [
        "\n",
        "\n",
        "\n",
        "\n",
        "\n",
        "\n"
      ]
    },
    {
      "cell_type": "code",
      "execution_count": null,
      "metadata": {
        "id": "tdIYUllgDiym"
      },
      "outputs": [],
      "source": [
        ""
      ]
    },
    {
      "cell_type": "markdown",
      "metadata": {
        "id": "FIBIRAiLDiym"
      },
      "source": [
        "### Problema 2\n",
        "\n",
        "Analice el comportamiento de un objeto en caída libre. La ecuación relevante es $$d = \\frac{1}{2} g t^2$$\n",
        "\n",
        "donde \n",
        "\n",
        "- `d` = distancia que recorre el objeto\n",
        "- `g` = aceleración debida a la gravedad, y\n",
        "- `t` = tiempo en que el objeto recorre la distancia d.\n",
        "\n",
        "Se debe permitir al usuario especificar el valor `g`, la aceleración debida a la gravedad, y un vector de valores de tiempo.\n",
        "\n",
        "1. Establezca el problema\n",
        "\n",
        "Encontrar la distancia que recorre un objeto en caída libre.\n",
        "\n",
        "2. Describir las entradas y salidas\n",
        "\n",
        "*Entrada* Valor de g, la aceleración debida a la gravedad, proporcionada por el usario. Tiempo, proporcionado por el usuario\n",
        "\n",
        "*Salida* Distancia\n",
        "\n",
        "\n",
        "3. Desarrolle un ejemplo a mano\n",
        "\n",
        "$$d=\\frac{1}{2}gt^2$$, de modo que, en la luna, a 100 segundos,\n",
        "$$d=\\frac{1}{2} \\times 1.6 m/s^2 \\times 100^2 s^2 $$\n",
        "$$d = 8000 m$$\n",
        "\n",
        "\n",
        "4. Desarrolle la solución en PYTHON\n",
        "\n"
      ]
    },
    {
      "cell_type": "code",
      "execution_count": null,
      "metadata": {
        "id": "sNBi6DecDiym"
      },
      "outputs": [],
      "source": [
        "# ingreso de datos\n",
        "gravedad= float(input('¿Cual es la gravedad? (m/s*2'))\n",
        "tiempo = float(input('¿Cual es el tiempo (s)?'))\n",
        "\n",
        "# cálculo de distancia\n",
        "distancia = 1/2 * gravedad * tiempo**2\n",
        "\n",
        "# imprime el resultado\n",
        "print('La distancia que recorre el objeto es:', distancia, 'm.')\n",
        "print(f'La distancia que recorre el objeto es: {distancia} m.')\n",
        "\n"
      ]
    },
    {
      "cell_type": "markdown",
      "metadata": {
        "id": "qJJLPH5cDiyn"
      },
      "source": [
        "### Referencias\n",
        "- [Atajos jupyter-lab](https://cheatography.com/jorgejuan007/cheat-sheets/jupyter-notebook-atajos-de-teclado/)"
      ]
    }
  ],
  "metadata": {
    "kernelspec": {
      "display_name": "Python 3 (ipykernel)",
      "language": "python",
      "name": "python3"
    },
    "language_info": {
      "codemirror_mode": {
        "name": "ipython",
        "version": 3
      },
      "file_extension": ".py",
      "mimetype": "text/x-python",
      "name": "python",
      "nbconvert_exporter": "python",
      "pygments_lexer": "ipython3",
      "version": "3.9.7"
    },
    "colab": {
      "name": "Semana2_EstructurasTiposDatos-A.ipynb",
      "provenance": [],
      "include_colab_link": true
    }
  },
  "nbformat": 4,
  "nbformat_minor": 0
}